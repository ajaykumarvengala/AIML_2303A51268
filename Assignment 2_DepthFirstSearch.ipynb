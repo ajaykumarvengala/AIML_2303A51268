{
  "nbformat": 4,
  "nbformat_minor": 0,
  "metadata": {
    "colab": {
      "provenance": [],
      "authorship_tag": "ABX9TyPob6EqYi+yByRcUv5oukre",
      "include_colab_link": true
    },
    "kernelspec": {
      "name": "python3",
      "display_name": "Python 3"
    },
    "language_info": {
      "name": "python"
    }
  },
  "cells": [
    {
      "cell_type": "markdown",
      "metadata": {
        "id": "view-in-github",
        "colab_type": "text"
      },
      "source": [
        "<a href=\"https://colab.research.google.com/github/ajaykumarvengala/AIML_2303A51268/blob/main/Lab2DepthFirstSearch.ipynb\" target=\"_parent\"><img src=\"https://colab.research.google.com/assets/colab-badge.svg\" alt=\"Open In Colab\"/></a>"
      ]
    },
    {
      "cell_type": "code",
      "execution_count": 1,
      "metadata": {
        "colab": {
          "base_uri": "https://localhost:8080/"
        },
        "id": "I1c_9WNU6Cyk",
        "outputId": "4a6146ca-b581-43d1-acf0-d8a2d142a3e9"
      },
      "outputs": [
        {
          "output_type": "stream",
          "name": "stdout",
          "text": [
            "['B', 'A', 'S', 'C', 'D', 'E', 'H', 'G', 'F']\n"
          ]
        }
      ],
      "source": [
        "graph1 = {\n",
        "      'A' : ['B','S'],\n",
        "      'B' : ['A'],\n",
        "      'C' : ['D','E','F','S'],\n",
        "      'D' : ['C'],\n",
        "      'E' : ['C','H'],\n",
        "      'F' : ['C','G'],\n",
        "      'G' : ['H','S'],\n",
        "      'H' : ['E','G'],\n",
        "      'S' : ['A','C','G']\n",
        "}\n",
        "\n",
        "def dfs(graph, node, visited):\n",
        "   if node not in visited:\n",
        "       visited.append(node)\n",
        "       for k in graph[node]:\n",
        "            dfs(graph,k, visited)\n",
        "   return visited\n",
        "\n",
        "visited = dfs(graph1,'B', [])\n",
        "print(visited)\n"
      ]
    }
  ]
}
