{
  "nbformat": 4,
  "nbformat_minor": 0,
  "metadata": {
    "colab": {
      "provenance": [],
      "authorship_tag": "ABX9TyOIvezqBPRXoRFmmIEup971",
      "include_colab_link": true
    },
    "kernelspec": {
      "name": "python3",
      "display_name": "Python 3"
    },
    "language_info": {
      "name": "python"
    }
  },
  "cells": [
    {
      "cell_type": "markdown",
      "metadata": {
        "id": "view-in-github",
        "colab_type": "text"
      },
      "source": [
        "<a href=\"https://colab.research.google.com/github/ajaykumarvengala/AIML_2303A51268/blob/main/Assignment%209.ipynb\" target=\"_parent\"><img src=\"https://colab.research.google.com/assets/colab-badge.svg\" alt=\"Open In Colab\"/></a>"
      ]
    },
    {
      "cell_type": "code",
      "execution_count": 9,
      "metadata": {
        "id": "-R4zi2CsXxK_"
      },
      "outputs": [],
      "source": [
        "# importing required libraries\n",
        "# importing Scikit-learn library and datasets package\n",
        "from sklearn import datasets\n",
        "\n",
        "# Loading the iris plants dataset (classification)\n",
        "iris = datasets.load_iris()"
      ]
    },
    {
      "cell_type": "code",
      "source": [
        "print(iris.target_names)\n"
      ],
      "metadata": {
        "colab": {
          "base_uri": "https://localhost:8080/"
        },
        "id": "PhVUr8NiayIg",
        "outputId": "ca263812-9bd1-491b-baa3-62ee6223d879"
      },
      "execution_count": 2,
      "outputs": [
        {
          "output_type": "stream",
          "name": "stdout",
          "text": [
            "['setosa' 'versicolor' 'virginica']\n"
          ]
        }
      ]
    },
    {
      "cell_type": "code",
      "source": [
        "print(iris.feature_names)"
      ],
      "metadata": {
        "colab": {
          "base_uri": "https://localhost:8080/"
        },
        "id": "1n85J6sia00y",
        "outputId": "affff8ba-e85e-4fe6-bf55-8be6d97b118a"
      },
      "execution_count": 4,
      "outputs": [
        {
          "output_type": "stream",
          "name": "stdout",
          "text": [
            "['sepal length (cm)', 'sepal width (cm)', 'petal length (cm)', 'petal width (cm)']\n"
          ]
        }
      ]
    },
    {
      "cell_type": "code",
      "source": [
        "# dividing the datasets into two parts i.e. training datasets and test datasets\n",
        "X, y = datasets.load_iris( return_X_y = True)\n",
        "\n",
        "# Splitting arrays or matrices into random train and test subsets\n",
        "from sklearn.model_selection import train_test_split\n",
        "# i.e. 70 % training dataset and 30 % test datasets\n",
        "X_train, X_test, y_train, y_test = train_test_split(X, y, test_size = 0.30)"
      ],
      "metadata": {
        "id": "f7q_m_uDa6rq"
      },
      "execution_count": 5,
      "outputs": []
    },
    {
      "cell_type": "code",
      "source": [
        "# importing random forest classifier from assemble module\n",
        "from sklearn.ensemble import RandomForestClassifier\n",
        "import pandas as pd\n",
        "# creating dataframe of IRIS dataset\n",
        "data = pd.DataFrame({'sepallength': iris.data[:, 0], 'sepalwidth': iris.data[:, 1],\n",
        "\t\t\t\t\t'petallength': iris.data[:, 2], 'petalwidth': iris.data[:, 3],\n",
        "\t\t\t\t\t'species': iris.target})"
      ],
      "metadata": {
        "id": "O-OA8qs5bDdc"
      },
      "execution_count": 6,
      "outputs": []
    },
    {
      "cell_type": "code",
      "source": [
        "# printing the top 5 datasets in iris dataset\n",
        "print(data.head())"
      ],
      "metadata": {
        "colab": {
          "base_uri": "https://localhost:8080/"
        },
        "id": "lNA5SkLxbI7M",
        "outputId": "c5fe01ea-7483-4149-f747-d571329d734c"
      },
      "execution_count": 7,
      "outputs": [
        {
          "output_type": "stream",
          "name": "stdout",
          "text": [
            "   sepallength  sepalwidth  petallength  petalwidth  species\n",
            "0          5.1         3.5          1.4         0.2        0\n",
            "1          4.9         3.0          1.4         0.2        0\n",
            "2          4.7         3.2          1.3         0.2        0\n",
            "3          4.6         3.1          1.5         0.2        0\n",
            "4          5.0         3.6          1.4         0.2        0\n"
          ]
        }
      ]
    },
    {
      "cell_type": "code",
      "source": [
        "# creating a RF classifier\n",
        "clf = RandomForestClassifier(n_estimators = 100)\n",
        "\n",
        "# Training the model on the training dataset\n",
        "# fit function is used to train the model using the training sets as parameters\n",
        "clf.fit(X_train, y_train)\n",
        "\n",
        "# performing predictions on the test dataset\n",
        "y_pred = clf.predict(X_test)\n",
        "\n",
        "# metrics are used to find accuracy or error\n",
        "from sklearn import metrics\n",
        "print()\n",
        "\n",
        "# using metrics module for accuracy calculation\n",
        "print(\"ACCURACY OF THE MODEL:\", metrics.accuracy_score(y_test, y_pred))"
      ],
      "metadata": {
        "colab": {
          "base_uri": "https://localhost:8080/"
        },
        "id": "CJj607GRboEf",
        "outputId": "a3fe4cb0-4a79-4dc8-9d79-7f74aab02709"
      },
      "execution_count": 10,
      "outputs": [
        {
          "output_type": "stream",
          "name": "stdout",
          "text": [
            "\n",
            "ACCURACY OF THE MODEL: 0.9777777777777777\n"
          ]
        }
      ]
    },
    {
      "cell_type": "code",
      "source": [
        "# predicting which type of flower it is.\n",
        "clf.predict([[3, 3, 2, 2]])"
      ],
      "metadata": {
        "colab": {
          "base_uri": "https://localhost:8080/"
        },
        "id": "-PXd7wS5bxFy",
        "outputId": "f12f0d14-178c-4def-8342-78c0e9700dad"
      },
      "execution_count": 11,
      "outputs": [
        {
          "output_type": "execute_result",
          "data": {
            "text/plain": [
              "array([0])"
            ]
          },
          "metadata": {},
          "execution_count": 11
        }
      ]
    }
  ]
}